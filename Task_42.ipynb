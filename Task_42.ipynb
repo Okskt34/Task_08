{
 "cells": [
  {
   "cell_type": "code",
   "execution_count": 1,
   "id": "0969442e",
   "metadata": {},
   "outputs": [],
   "source": [
    "import pandas as pd\n",
    "from sklearn.datasets import load_wine\n",
    "from sklearn.preprocessing import StandardScaler\n",
    "from sklearn.cluster import KMeans"
   ]
  },
  {
   "cell_type": "code",
   "execution_count": 2,
   "id": "0f140066",
   "metadata": {},
   "outputs": [],
   "source": [
    "wine_data = load_wine()\n",
    "wine_features = wine_data['data']\n",
    "wine_labels = wine_data['target']\n",
    "wine_feature_names = wine_data['feature_names']\n"
   ]
  },
  {
   "cell_type": "code",
   "execution_count": 3,
   "id": "639fe614",
   "metadata": {},
   "outputs": [],
   "source": [
    "scaler = StandardScaler()\n",
    "scaled_features = scaler.fit_transform(wine_features)"
   ]
  },
  {
   "cell_type": "code",
   "execution_count": 4,
   "id": "61a17802",
   "metadata": {},
   "outputs": [],
   "source": [
    "kmeans = KMeans(n_clusters=3, random_state=42)\n",
    "kmeans.fit(scaled_features)\n",
    "cluster_labels = kmeans.labels_"
   ]
  },
  {
   "cell_type": "code",
   "execution_count": 5,
   "id": "a55f2077",
   "metadata": {},
   "outputs": [],
   "source": [
    "wine_df = pd.DataFrame(data=scaled_features, columns=wine_feature_names)\n",
    "wine_df['cluster'] = cluster_labels\n",
    "wine_df['true_label'] = wine_labels"
   ]
  },
  {
   "cell_type": "code",
   "execution_count": 6,
   "id": "1b707bbf",
   "metadata": {},
   "outputs": [],
   "source": [
    "wine_df.to_csv('wine_clusters.csv', index=False)"
   ]
  },
  {
   "cell_type": "code",
   "execution_count": null,
   "id": "bf5d45cb",
   "metadata": {},
   "outputs": [],
   "source": []
  }
 ],
 "metadata": {
  "kernelspec": {
   "display_name": "Python 3 (ipykernel)",
   "language": "python",
   "name": "python3"
  },
  "language_info": {
   "codemirror_mode": {
    "name": "ipython",
    "version": 3
   },
   "file_extension": ".py",
   "mimetype": "text/x-python",
   "name": "python",
   "nbconvert_exporter": "python",
   "pygments_lexer": "ipython3",
   "version": "3.10.9"
  }
 },
 "nbformat": 4,
 "nbformat_minor": 5
}
