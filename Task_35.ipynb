{
 "cells": [
  {
   "cell_type": "code",
   "execution_count": 1,
   "id": "99348f04",
   "metadata": {},
   "outputs": [],
   "source": [
    "import pandas as pd"
   ]
  },
  {
   "cell_type": "code",
   "execution_count": 2,
   "id": "0891cd68",
   "metadata": {},
   "outputs": [
    {
     "data": {
      "text/html": [
       "<div>\n",
       "<style scoped>\n",
       "    .dataframe tbody tr th:only-of-type {\n",
       "        vertical-align: middle;\n",
       "    }\n",
       "\n",
       "    .dataframe tbody tr th {\n",
       "        vertical-align: top;\n",
       "    }\n",
       "\n",
       "    .dataframe thead th {\n",
       "        text-align: right;\n",
       "    }\n",
       "</style>\n",
       "<table border=\"1\" class=\"dataframe\">\n",
       "  <thead>\n",
       "    <tr style=\"text-align: right;\">\n",
       "      <th></th>\n",
       "      <th>N n/n</th>\n",
       "      <th>П.І.П.</th>\n",
       "      <th>Середній бал</th>\n",
       "      <th>Оцінка за поточний екзамен</th>\n",
       "      <th>Кількість спроб здати поточний екзамен</th>\n",
       "      <th>Протяжність навчання, років</th>\n",
       "    </tr>\n",
       "  </thead>\n",
       "  <tbody>\n",
       "    <tr>\n",
       "      <th>0</th>\n",
       "      <td>1</td>\n",
       "      <td>Аксьонов</td>\n",
       "      <td>70</td>\n",
       "      <td>NaN</td>\n",
       "      <td>1</td>\n",
       "      <td>2</td>\n",
       "    </tr>\n",
       "    <tr>\n",
       "      <th>1</th>\n",
       "      <td>2</td>\n",
       "      <td>Буханчук</td>\n",
       "      <td>80</td>\n",
       "      <td>NaN</td>\n",
       "      <td>1</td>\n",
       "      <td>3</td>\n",
       "    </tr>\n",
       "    <tr>\n",
       "      <th>2</th>\n",
       "      <td>3</td>\n",
       "      <td>Іллюк</td>\n",
       "      <td>75</td>\n",
       "      <td>NaN</td>\n",
       "      <td>1</td>\n",
       "      <td>3</td>\n",
       "    </tr>\n",
       "    <tr>\n",
       "      <th>3</th>\n",
       "      <td>4</td>\n",
       "      <td>Кавун</td>\n",
       "      <td>60</td>\n",
       "      <td>NaN</td>\n",
       "      <td>2</td>\n",
       "      <td>4</td>\n",
       "    </tr>\n",
       "    <tr>\n",
       "      <th>4</th>\n",
       "      <td>5</td>\n",
       "      <td>Кантур</td>\n",
       "      <td>65</td>\n",
       "      <td>NaN</td>\n",
       "      <td>2</td>\n",
       "      <td>2</td>\n",
       "    </tr>\n",
       "    <tr>\n",
       "      <th>5</th>\n",
       "      <td>6</td>\n",
       "      <td>Климовець</td>\n",
       "      <td>85</td>\n",
       "      <td>NaN</td>\n",
       "      <td>1</td>\n",
       "      <td>3</td>\n",
       "    </tr>\n",
       "    <tr>\n",
       "      <th>6</th>\n",
       "      <td>7</td>\n",
       "      <td>Колешня</td>\n",
       "      <td>80</td>\n",
       "      <td>NaN</td>\n",
       "      <td>1</td>\n",
       "      <td>3</td>\n",
       "    </tr>\n",
       "    <tr>\n",
       "      <th>7</th>\n",
       "      <td>8</td>\n",
       "      <td>Коркушко</td>\n",
       "      <td>67</td>\n",
       "      <td>NaN</td>\n",
       "      <td>1</td>\n",
       "      <td>3</td>\n",
       "    </tr>\n",
       "    <tr>\n",
       "      <th>8</th>\n",
       "      <td>9</td>\n",
       "      <td>Кучерявий</td>\n",
       "      <td>70</td>\n",
       "      <td>NaN</td>\n",
       "      <td>1</td>\n",
       "      <td>4</td>\n",
       "    </tr>\n",
       "    <tr>\n",
       "      <th>9</th>\n",
       "      <td>10</td>\n",
       "      <td>Межінський</td>\n",
       "      <td>72</td>\n",
       "      <td>NaN</td>\n",
       "      <td>2</td>\n",
       "      <td>3</td>\n",
       "    </tr>\n",
       "    <tr>\n",
       "      <th>10</th>\n",
       "      <td>11</td>\n",
       "      <td>Нечай</td>\n",
       "      <td>83</td>\n",
       "      <td>NaN</td>\n",
       "      <td>1</td>\n",
       "      <td>3</td>\n",
       "    </tr>\n",
       "    <tr>\n",
       "      <th>11</th>\n",
       "      <td>12</td>\n",
       "      <td>Новик</td>\n",
       "      <td>85</td>\n",
       "      <td>NaN</td>\n",
       "      <td>1</td>\n",
       "      <td>3</td>\n",
       "    </tr>\n",
       "    <tr>\n",
       "      <th>12</th>\n",
       "      <td>13</td>\n",
       "      <td>Старовойт</td>\n",
       "      <td>84</td>\n",
       "      <td>NaN</td>\n",
       "      <td>1</td>\n",
       "      <td>3</td>\n",
       "    </tr>\n",
       "    <tr>\n",
       "      <th>13</th>\n",
       "      <td>14</td>\n",
       "      <td>Степанюк</td>\n",
       "      <td>90</td>\n",
       "      <td>NaN</td>\n",
       "      <td>1</td>\n",
       "      <td>3</td>\n",
       "    </tr>\n",
       "    <tr>\n",
       "      <th>14</th>\n",
       "      <td>15</td>\n",
       "      <td>Терещенко</td>\n",
       "      <td>67</td>\n",
       "      <td>NaN</td>\n",
       "      <td>1</td>\n",
       "      <td>2</td>\n",
       "    </tr>\n",
       "    <tr>\n",
       "      <th>15</th>\n",
       "      <td>16</td>\n",
       "      <td>Чудаков</td>\n",
       "      <td>78</td>\n",
       "      <td>NaN</td>\n",
       "      <td>1</td>\n",
       "      <td>2</td>\n",
       "    </tr>\n",
       "    <tr>\n",
       "      <th>16</th>\n",
       "      <td>17</td>\n",
       "      <td>Чернікін</td>\n",
       "      <td>83</td>\n",
       "      <td>NaN</td>\n",
       "      <td>2</td>\n",
       "      <td>2</td>\n",
       "    </tr>\n",
       "    <tr>\n",
       "      <th>17</th>\n",
       "      <td>18</td>\n",
       "      <td>Цибулько</td>\n",
       "      <td>75</td>\n",
       "      <td>NaN</td>\n",
       "      <td>1</td>\n",
       "      <td>4</td>\n",
       "    </tr>\n",
       "    <tr>\n",
       "      <th>18</th>\n",
       "      <td>19</td>\n",
       "      <td>Яковенко</td>\n",
       "      <td>72</td>\n",
       "      <td>NaN</td>\n",
       "      <td>2</td>\n",
       "      <td>3</td>\n",
       "    </tr>\n",
       "    <tr>\n",
       "      <th>19</th>\n",
       "      <td>20</td>\n",
       "      <td>Яровий</td>\n",
       "      <td>90</td>\n",
       "      <td>NaN</td>\n",
       "      <td>1</td>\n",
       "      <td>4</td>\n",
       "    </tr>\n",
       "  </tbody>\n",
       "</table>\n",
       "</div>"
      ],
      "text/plain": [
       "    N n/n      П.І.П.  Середній бал  Оцінка за поточний екзамен   \n",
       "0       1    Аксьонов            70                         NaN  \\\n",
       "1       2    Буханчук            80                         NaN   \n",
       "2       3       Іллюк            75                         NaN   \n",
       "3       4       Кавун            60                         NaN   \n",
       "4       5      Кантур            65                         NaN   \n",
       "5       6   Климовець            85                         NaN   \n",
       "6       7     Колешня            80                         NaN   \n",
       "7       8    Коркушко            67                         NaN   \n",
       "8       9   Кучерявий            70                         NaN   \n",
       "9      10  Межінський            72                         NaN   \n",
       "10     11       Нечай            83                         NaN   \n",
       "11     12       Новик            85                         NaN   \n",
       "12     13   Старовойт            84                         NaN   \n",
       "13     14    Степанюк            90                         NaN   \n",
       "14     15   Терещенко            67                         NaN   \n",
       "15     16     Чудаков            78                         NaN   \n",
       "16     17    Чернікін            83                         NaN   \n",
       "17     18    Цибулько            75                         NaN   \n",
       "18     19    Яковенко            72                         NaN   \n",
       "19     20      Яровий            90                         NaN   \n",
       "\n",
       "    Кількість спроб здати поточний екзамен  Протяжність навчання, років  \n",
       "0                                        1                            2  \n",
       "1                                        1                            3  \n",
       "2                                        1                            3  \n",
       "3                                        2                            4  \n",
       "4                                        2                            2  \n",
       "5                                        1                            3  \n",
       "6                                        1                            3  \n",
       "7                                        1                            3  \n",
       "8                                        1                            4  \n",
       "9                                        2                            3  \n",
       "10                                       1                            3  \n",
       "11                                       1                            3  \n",
       "12                                       1                            3  \n",
       "13                                       1                            3  \n",
       "14                                       1                            2  \n",
       "15                                       1                            2  \n",
       "16                                       2                            2  \n",
       "17                                       1                            4  \n",
       "18                                       2                            3  \n",
       "19                                       1                            4  "
      ]
     },
     "execution_count": 2,
     "metadata": {},
     "output_type": "execute_result"
    }
   ],
   "source": [
    "file_path = 'C:/Users/ASUS/OneDrive/Рабочий стол/PDS/Auto35.xlsx'\n",
    "df = pd.read_excel(file_path)\n",
    "\n",
    "df"
   ]
  },
  {
   "cell_type": "code",
   "execution_count": 3,
   "id": "f4ed488d",
   "metadata": {},
   "outputs": [],
   "source": [
    "import numpy as np\n",
    "import matplotlib.pyplot as plt"
   ]
  },
  {
   "cell_type": "code",
   "execution_count": 4,
   "id": "9ad143bf",
   "metadata": {},
   "outputs": [],
   "source": [
    "x = np.array([2, 3, 3, 4, 2, 3, 3, 3, 4, 3, 3, 3, 3, 3, 2, 2, 2, 4, 3, 4])\n",
    "y = np.array([70, 80, 75, 60, 65, 85, 80, 67, 70, 72, 83, 85, 84, 90, 67, 78, 83, 75, 72, 90])"
   ]
  },
  {
   "cell_type": "code",
   "execution_count": 5,
   "id": "0fda67e8",
   "metadata": {},
   "outputs": [],
   "source": [
    "n = len(x)\n",
    "x_mean = np.mean(x)\n",
    "y_mean = np.mean(y)"
   ]
  },
  {
   "cell_type": "code",
   "execution_count": 6,
   "id": "ecc76f14",
   "metadata": {},
   "outputs": [],
   "source": [
    "numerator = np.sum((x - x_mean) * (y - y_mean))\n",
    "denominator = np.sum((x - x_mean) ** 2)\n"
   ]
  },
  {
   "cell_type": "code",
   "execution_count": 7,
   "id": "61cf9fb4",
   "metadata": {},
   "outputs": [],
   "source": [
    "b1 = numerator / denominator\n",
    "b0 = y_mean - b1 * x_mean"
   ]
  },
  {
   "cell_type": "code",
   "execution_count": 8,
   "id": "72d00af1",
   "metadata": {},
   "outputs": [],
   "source": [
    "regression_equation = f'y = {b0:.2f} + {b1:.2f}x'"
   ]
  },
  {
   "cell_type": "code",
   "execution_count": 9,
   "id": "8bfa1e23",
   "metadata": {},
   "outputs": [
    {
     "data": {
      "image/png": "[encoded data removed]",
      "text/plain": [
       "<Figure size 640x480 with 1 Axes>"
      ]
     },
     "metadata": {},
     "output_type": "display_data"
    },
    {
     "name": "stdout",
     "output_type": "stream",
     "text": [
      "Рівняння простої регресії: y = 73.73 + 0.96x\n"
     ]
    }
   ],
   "source": [
    "plt.scatter(x, y, color='blue', label='Середній бал та протяжність навчання')\n",
    "plt.plot(x, b0 + b1 * x, color='red', label='Проста регресія')\n",
    "plt.xlabel('Протяжність навчання, роки')\n",
    "plt.ylabel('Середній бал')\n",
    "plt.title('Залежність між протяжністю навчання та середнім балом студентів')\n",
    "plt.legend()\n",
    "plt.show()\n",
    "\n",
    "print('Рівняння простої регресії:', regression_equation)"
   ]
  },
  {
   "cell_type": "code",
   "execution_count": 10,
   "id": "7559b823",
   "metadata": {},
   "outputs": [],
   "source": [
    "y_pred = b0 + b1 * x"
   ]
  },
  {
   "cell_type": "code",
   "execution_count": 11,
   "id": "0222f998",
   "metadata": {},
   "outputs": [],
   "source": [
    "ss_total = np.sum((y - y_mean) ** 2)\n",
    "ss_residual = np.sum((y - y_pred) ** 2)\n",
    "r_squared = 1 - (ss_residual / ss_total)"
   ]
  },
  {
   "cell_type": "code",
   "execution_count": 12,
   "id": "298c9ead",
   "metadata": {},
   "outputs": [],
   "source": [
    "mse = np.mean((y - y_pred) ** 2)"
   ]
  },
  {
   "cell_type": "code",
   "execution_count": 13,
   "id": "e3d1b85e",
   "metadata": {},
   "outputs": [
    {
     "name": "stdout",
     "output_type": "stream",
     "text": [
      "Коефіцієнт детермінації (R-квадрат): 0.005872157227054586\n",
      "Середньоквадратична помилка (MSE): 69.13910614525142\n"
     ]
    }
   ],
   "source": [
    "print('Коефіцієнт детермінації (R-квадрат):', r_squared)\n",
    "print('Середньоквадратична помилка (MSE):', mse)"
   ]
  },
  {
   "cell_type": "code",
   "execution_count": 14,
   "id": "77675019",
   "metadata": {},
   "outputs": [
    {
     "data": {
      "text/html": [
       "<div>\n",
       "<style scoped>\n",
       "    .dataframe tbody tr th:only-of-type {\n",
       "        vertical-align: middle;\n",
       "    }\n",
       "\n",
       "    .dataframe tbody tr th {\n",
       "        vertical-align: top;\n",
       "    }\n",
       "\n",
       "    .dataframe thead th {\n",
       "        text-align: right;\n",
       "    }\n",
       "</style>\n",
       "<table border=\"1\" class=\"dataframe\">\n",
       "  <thead>\n",
       "    <tr style=\"text-align: right;\">\n",
       "      <th></th>\n",
       "      <th>N n/n</th>\n",
       "      <th>Марка авто</th>\n",
       "      <th>Вартість, грн.</th>\n",
       "      <th>Споживання палива, л</th>\n",
       "      <th>Максимальна швидкість, км/год</th>\n",
       "      <th>Вантажопідйомність, кг</th>\n",
       "    </tr>\n",
       "  </thead>\n",
       "  <tbody>\n",
       "    <tr>\n",
       "      <th>0</th>\n",
       "      <td>1</td>\n",
       "      <td>Lexus IS</td>\n",
       "      <td>4422189</td>\n",
       "      <td>80</td>\n",
       "      <td>350</td>\n",
       "      <td>2910</td>\n",
       "    </tr>\n",
       "    <tr>\n",
       "      <th>1</th>\n",
       "      <td>2</td>\n",
       "      <td>Lexus CT</td>\n",
       "      <td>3121866</td>\n",
       "      <td>70</td>\n",
       "      <td>180</td>\n",
       "      <td>2350</td>\n",
       "    </tr>\n",
       "    <tr>\n",
       "      <th>2</th>\n",
       "      <td>3</td>\n",
       "      <td>Toyota</td>\n",
       "      <td>2425000</td>\n",
       "      <td>85</td>\n",
       "      <td>190</td>\n",
       "      <td>1800</td>\n",
       "    </tr>\n",
       "    <tr>\n",
       "      <th>3</th>\n",
       "      <td>4</td>\n",
       "      <td>Honda</td>\n",
       "      <td>1997230</td>\n",
       "      <td>73</td>\n",
       "      <td>210</td>\n",
       "      <td>1950</td>\n",
       "    </tr>\n",
       "    <tr>\n",
       "      <th>4</th>\n",
       "      <td>5</td>\n",
       "      <td>Skoda</td>\n",
       "      <td>764280</td>\n",
       "      <td>92</td>\n",
       "      <td>300</td>\n",
       "      <td>2150</td>\n",
       "    </tr>\n",
       "    <tr>\n",
       "      <th>5</th>\n",
       "      <td>6</td>\n",
       "      <td>Hyundai i10</td>\n",
       "      <td>1385500</td>\n",
       "      <td>84</td>\n",
       "      <td>285</td>\n",
       "      <td>2835</td>\n",
       "    </tr>\n",
       "    <tr>\n",
       "      <th>6</th>\n",
       "      <td>7</td>\n",
       "      <td>Hyundai i20</td>\n",
       "      <td>2483700</td>\n",
       "      <td>79</td>\n",
       "      <td>180</td>\n",
       "      <td>1950</td>\n",
       "    </tr>\n",
       "    <tr>\n",
       "      <th>7</th>\n",
       "      <td>8</td>\n",
       "      <td>Volswagen</td>\n",
       "      <td>975300</td>\n",
       "      <td>78</td>\n",
       "      <td>250</td>\n",
       "      <td>1970</td>\n",
       "    </tr>\n",
       "    <tr>\n",
       "      <th>8</th>\n",
       "      <td>9</td>\n",
       "      <td>Mercedes</td>\n",
       "      <td>1763200</td>\n",
       "      <td>89</td>\n",
       "      <td>290</td>\n",
       "      <td>1834</td>\n",
       "    </tr>\n",
       "    <tr>\n",
       "      <th>9</th>\n",
       "      <td>10</td>\n",
       "      <td>Mazda</td>\n",
       "      <td>983430</td>\n",
       "      <td>95</td>\n",
       "      <td>303</td>\n",
       "      <td>1873</td>\n",
       "    </tr>\n",
       "    <tr>\n",
       "      <th>10</th>\n",
       "      <td>11</td>\n",
       "      <td>Kia</td>\n",
       "      <td>937600</td>\n",
       "      <td>94</td>\n",
       "      <td>295</td>\n",
       "      <td>1745</td>\n",
       "    </tr>\n",
       "    <tr>\n",
       "      <th>11</th>\n",
       "      <td>12</td>\n",
       "      <td>Audi</td>\n",
       "      <td>829900</td>\n",
       "      <td>88</td>\n",
       "      <td>280</td>\n",
       "      <td>2400</td>\n",
       "    </tr>\n",
       "  </tbody>\n",
       "</table>\n",
       "</div>"
      ],
      "text/plain": [
       "    N n/n   Марка авто  Вартість, грн.  Споживання палива, л   \n",
       "0       1     Lexus IS         4422189                    80  \\\n",
       "1       2     Lexus CT         3121866                    70   \n",
       "2       3       Toyota         2425000                    85   \n",
       "3       4        Honda         1997230                    73   \n",
       "4       5        Skoda          764280                    92   \n",
       "5       6  Hyundai i10         1385500                    84   \n",
       "6       7  Hyundai i20         2483700                    79   \n",
       "7       8    Volswagen          975300                    78   \n",
       "8       9     Mercedes         1763200                    89   \n",
       "9      10        Mazda          983430                    95   \n",
       "10     11          Kia          937600                    94   \n",
       "11     12         Audi          829900                    88   \n",
       "\n",
       "    Максимальна швидкість, км/год  Вантажопідйомність, кг  \n",
       "0                             350                    2910  \n",
       "1                             180                    2350  \n",
       "2                             190                    1800  \n",
       "3                             210                    1950  \n",
       "4                             300                    2150  \n",
       "5                             285                    2835  \n",
       "6                             180                    1950  \n",
       "7                             250                    1970  \n",
       "8                             290                    1834  \n",
       "9                             303                    1873  \n",
       "10                            295                    1745  \n",
       "11                            280                    2400  "
      ]
     },
     "execution_count": 14,
     "metadata": {},
     "output_type": "execute_result"
    }
   ],
   "source": [
    "file_path = 'C:/Users/ASUS/OneDrive/Рабочий стол/PDS/Auto33.xlsx'\n",
    "df = pd.read_excel(file_path)\n",
    "\n",
    "df"
   ]
  },
  {
   "cell_type": "code",
   "execution_count": 15,
   "id": "a2ce5372",
   "metadata": {},
   "outputs": [],
   "source": [
    "import numpy as np"
   ]
  },
  {
   "cell_type": "code",
   "execution_count": 16,
   "id": "5cfe5d82",
   "metadata": {},
   "outputs": [
    {
     "name": "stdout",
     "output_type": "stream",
     "text": [
      "Requirement already satisfied: scikit-learn in c:\\users\\asus\\anaconda3\\anakonda\\lib\\site-packages (1.2.2)\n",
      "Requirement already satisfied: numpy>=1.17.3 in c:\\users\\asus\\anaconda3\\anakonda\\lib\\site-packages (from scikit-learn) (1.23.5)\n",
      "Requirement already satisfied: threadpoolctl>=2.0.0 in c:\\users\\asus\\anaconda3\\anakonda\\lib\\site-packages (from scikit-learn) (3.1.0)\n",
      "Requirement already satisfied: joblib>=1.1.1 in c:\\users\\asus\\anaconda3\\anakonda\\lib\\site-packages (from scikit-learn) (1.2.0)\n",
      "Requirement already satisfied: scipy>=1.3.2 in c:\\users\\asus\\anaconda3\\anakonda\\lib\\site-packages (from scikit-learn) (1.10.1)\n",
      "Note: you may need to restart the kernel to use updated packages.\n"
     ]
    }
   ],
   "source": [
    "pip install scikit-learn"
   ]
  },
  {
   "cell_type": "code",
   "execution_count": 17,
   "id": "f2005a44",
   "metadata": {},
   "outputs": [],
   "source": [
    "from sklearn.linear_model import LinearRegression"
   ]
  },
  {
   "cell_type": "code",
   "execution_count": 18,
   "id": "2fee23f1",
   "metadata": {},
   "outputs": [],
   "source": [
    "X = np.array([\n",
    "    [80, 350, 2910],\n",
    "    [70, 180, 2350],\n",
    "    [85, 190, 1800],\n",
    "    [73, 210, 1950],\n",
    "    [92, 300, 2150],\n",
    "    [84, 285, 2835],\n",
    "    [79, 180, 1950],\n",
    "    [78, 250, 1970],\n",
    "    [89, 290, 1834],\n",
    "    [95, 303, 1873],\n",
    "    [94, 295, 1745],\n",
    "    [88, 280, 2400]\n",
    "])\n",
    "y = np.array([4422189, 3121866, 2425000, 1997230, 764280, 1385500, 2483700, 975300, 1763200, 983430, 937600, 829900])"
   ]
  },
  {
   "cell_type": "code",
   "execution_count": 19,
   "id": "a30ecd54",
   "metadata": {},
   "outputs": [
    {
     "data": {
      "text/html": [
       "<style>#sk-container-id-1 {color: black;background-color: white;}#sk-container-id-1 pre{padding: 0;}#sk-container-id-1 div.sk-toggleable {background-color: white;}#sk-container-id-1 label.sk-toggleable__label {cursor: pointer;display: block;width: 100%;margin-bottom: 0;padding: 0.3em;box-sizing: border-box;text-align: center;}#sk-container-id-1 label.sk-toggleable__label-arrow:before {content: \"▸\";float: left;margin-right: 0.25em;color: #696969;}#sk-container-id-1 label.sk-toggleable__label-arrow:hover:before {color: black;}#sk-container-id-1 div.sk-estimator:hover label.sk-toggleable__label-arrow:before {color: black;}#sk-container-id-1 div.sk-toggleable__content {max-height: 0;max-width: 0;overflow: hidden;text-align: left;background-color: #f0f8ff;}#sk-container-id-1 div.sk-toggleable__content pre {margin: 0.2em;color: black;border-radius: 0.25em;background-color: #f0f8ff;}#sk-container-id-1 input.sk-toggleable__control:checked~div.sk-toggleable__content {max-height: 200px;max-width: 100%;overflow: auto;}#sk-container-id-1 input.sk-toggleable__control:checked~label.sk-toggleable__label-arrow:before {content: \"▾\";}#sk-container-id-1 div.sk-estimator input.sk-toggleable__control:checked~label.sk-toggleable__label {background-color: #d4ebff;}#sk-container-id-1 div.sk-label input.sk-toggleable__control:checked~label.sk-toggleable__label {background-color: #d4ebff;}#sk-container-id-1 input.sk-hidden--visually {border: 0;clip: rect(1px 1px 1px 1px);clip: rect(1px, 1px, 1px, 1px);height: 1px;margin: -1px;overflow: hidden;padding: 0;position: absolute;width: 1px;}#sk-container-id-1 div.sk-estimator {font-family: monospace;background-color: #f0f8ff;border: 1px dotted black;border-radius: 0.25em;box-sizing: border-box;margin-bottom: 0.5em;}#sk-container-id-1 div.sk-estimator:hover {background-color: #d4ebff;}#sk-container-id-1 div.sk-parallel-item::after {content: \"\";width: 100%;border-bottom: 1px solid gray;flex-grow: 1;}#sk-container-id-1 div.sk-label:hover label.sk-toggleable__label {background-color: #d4ebff;}#sk-container-id-1 div.sk-serial::before {content: \"\";position: absolute;border-left: 1px solid gray;box-sizing: border-box;top: 0;bottom: 0;left: 50%;z-index: 0;}#sk-container-id-1 div.sk-serial {display: flex;flex-direction: column;align-items: center;background-color: white;padding-right: 0.2em;padding-left: 0.2em;position: relative;}#sk-container-id-1 div.sk-item {position: relative;z-index: 1;}#sk-container-id-1 div.sk-parallel {display: flex;align-items: stretch;justify-content: center;background-color: white;position: relative;}#sk-container-id-1 div.sk-item::before, #sk-container-id-1 div.sk-parallel-item::before {content: \"\";position: absolute;border-left: 1px solid gray;box-sizing: border-box;top: 0;bottom: 0;left: 50%;z-index: -1;}#sk-container-id-1 div.sk-parallel-item {display: flex;flex-direction: column;z-index: 1;position: relative;background-color: white;}#sk-container-id-1 div.sk-parallel-item:first-child::after {align-self: flex-end;width: 50%;}#sk-container-id-1 div.sk-parallel-item:last-child::after {align-self: flex-start;width: 50%;}#sk-container-id-1 div.sk-parallel-item:only-child::after {width: 0;}#sk-container-id-1 div.sk-dashed-wrapped {border: 1px dashed gray;margin: 0 0.4em 0.5em 0.4em;box-sizing: border-box;padding-bottom: 0.4em;background-color: white;}#sk-container-id-1 div.sk-label label {font-family: monospace;font-weight: bold;display: inline-block;line-height: 1.2em;}#sk-container-id-1 div.sk-label-container {text-align: center;}#sk-container-id-1 div.sk-container {/* jupyter's `normalize.less` sets `[hidden] { display: none; }` but bootstrap.min.css set `[hidden] { display: none !important; }` so we also need the `!important` here to be able to override the default hidden behavior on the sphinx rendered scikit-learn.org. See: https://github.com/scikit-learn/scikit-learn/issues/21755 */display: inline-block !important;position: relative;}#sk-container-id-1 div.sk-text-repr-fallback {display: none;}</style><div id=\"sk-container-id-1\" class=\"sk-top-container\"><div class=\"sk-text-repr-fallback\"><pre>LinearRegression()</pre><b>In a Jupyter environment, please rerun this cell to show the HTML representation or trust the notebook. <br />On GitHub, the HTML representation is unable to render, please try loading this page with nbviewer.org.</b></div><div class=\"sk-container\" hidden><div class=\"sk-item\"><div class=\"sk-estimator sk-toggleable\"><input class=\"sk-toggleable__control sk-hidden--visually\" id=\"sk-estimator-id-1\" type=\"checkbox\" checked><label for=\"sk-estimator-id-1\" class=\"sk-toggleable__label sk-toggleable__label-arrow\">LinearRegression</label><div class=\"sk-toggleable__content\"><pre>LinearRegression()</pre></div></div></div></div></div>"
      ],
      "text/plain": [
       "LinearRegression()"
      ]
     },
     "execution_count": 19,
     "metadata": {},
     "output_type": "execute_result"
    }
   ],
   "source": [
    "model = LinearRegression()\n",
    "model.fit(X, y)"
   ]
  },
  {
   "cell_type": "code",
   "execution_count": 20,
   "id": "7ed69a04",
   "metadata": {},
   "outputs": [],
   "source": [
    "coefficients = model.coef_\n",
    "intercept = model.intercept_"
   ]
  },
  {
   "cell_type": "code",
   "execution_count": 21,
   "id": "7c9dfa10",
   "metadata": {},
   "outputs": [
    {
     "name": "stdout",
     "output_type": "stream",
     "text": [
      "Коефіцієнти моделі:\n",
      "Коефіцієнт 1: -89276.60091794863\n",
      "Коефіцієнт 2: 3408.07494929192\n",
      "Коефіцієнт 3: 525.0825600621356\n",
      "Перехоплення (intercept): 7320966.040175623\n"
     ]
    }
   ],
   "source": [
    "print('Коефіцієнти моделі:')\n",
    "for i, coef in enumerate(coefficients):\n",
    "    print(f'Коефіцієнт {i+1}: {coef}')\n",
    "\n",
    "print('Перехоплення (intercept):', intercept)"
   ]
  },
  {
   "cell_type": "code",
   "execution_count": 22,
   "id": "0289fd42",
   "metadata": {},
   "outputs": [],
   "source": [
    "from sklearn.metrics import r2_score, mean_squared_error, mean_absolute_error"
   ]
  },
  {
   "cell_type": "code",
   "execution_count": 23,
   "id": "6573f7ca",
   "metadata": {},
   "outputs": [],
   "source": [
    "y_pred = model.predict(X)"
   ]
  },
  {
   "cell_type": "code",
   "execution_count": 24,
   "id": "47314a17",
   "metadata": {},
   "outputs": [],
   "source": [
    "r2 = r2_score(y, y_pred)"
   ]
  },
  {
   "cell_type": "code",
   "execution_count": 25,
   "id": "4389adc3",
   "metadata": {},
   "outputs": [],
   "source": [
    "mse = mean_squared_error(y, y_pred)"
   ]
  },
  {
   "cell_type": "code",
   "execution_count": 26,
   "id": "ab4e6eba",
   "metadata": {},
   "outputs": [],
   "source": [
    "mae = mean_absolute_error(y, y_pred)"
   ]
  },
  {
   "cell_type": "code",
   "execution_count": 27,
   "id": "226ead44",
   "metadata": {},
   "outputs": [
    {
     "name": "stdout",
     "output_type": "stream",
     "text": [
      "Коефіцієнт детермінації (R-квадрат): 0.434315124166443\n",
      "Середньоквадратична помилка (MSE): 649493797188.808\n",
      "Середня абсолютна помилка (MAE): 675764.7448739449\n"
     ]
    }
   ],
   "source": [
    "print('Коефіцієнт детермінації (R-квадрат):', r2)\n",
    "print('Середньоквадратична помилка (MSE):', mse)\n",
    "print('Середня абсолютна помилка (MAE):', mae)"
   ]
  },
  {
   "cell_type": "code",
   "execution_count": null,
   "id": "93ae4030",
   "metadata": {},
   "outputs": [],
   "source": []
  }
 ],
 "metadata": {
  "kernelspec": {
   "display_name": "Python 3 (ipykernel)",
   "language": "python",
   "name": "python3"
  },
  "language_info": {
   "codemirror_mode": {
    "name": "ipython",
    "version": 3
   },
   "file_extension": ".py",
   "mimetype": "text/x-python",
   "name": "python",
   "nbconvert_exporter": "python",
   "pygments_lexer": "ipython3",
   "version": "3.10.9"
  }
 },
 "nbformat": 4,
 "nbformat_minor": 5
}
