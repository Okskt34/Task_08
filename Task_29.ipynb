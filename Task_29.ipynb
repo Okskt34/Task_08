{
 "cells": [
  {
   "cell_type": "code",
   "execution_count": 1,
   "id": "45c88371",
   "metadata": {},
   "outputs": [],
   "source": [
    "import numpy as np"
   ]
  },
  {
   "cell_type": "code",
   "execution_count": 2,
   "id": "2415d309",
   "metadata": {},
   "outputs": [],
   "source": [
    "from scipy.stats import chisquare"
   ]
  },
  {
   "cell_type": "code",
   "execution_count": 3,
   "id": "2f3ebb1e",
   "metadata": {},
   "outputs": [],
   "source": [
    "x = np.array([12, 36, 60, 84, 108, 132, 156, 180, 204])\n",
    "n = np.array([1, 2, 4, 6, 12, 16, 6, 2, 1])"
   ]
  },
  {
   "cell_type": "code",
   "execution_count": 4,
   "id": "4c7440fa",
   "metadata": {},
   "outputs": [],
   "source": [
    "expected_freq = np.sum(n) / len(x)\n",
    "expected_freq_array = np.full(len(x), expected_freq)"
   ]
  },
  {
   "cell_type": "code",
   "execution_count": 5,
   "id": "7db0d7aa",
   "metadata": {},
   "outputs": [],
   "source": [
    "chi2, p_value = chisquare(n, f_exp=expected_freq_array)"
   ]
  },
  {
   "cell_type": "code",
   "execution_count": 7,
   "id": "7cfb9a12",
   "metadata": {},
   "outputs": [
    {
     "name": "stdout",
     "output_type": "stream",
     "text": [
      "Хі-квадрат статистика: 39.64\n",
      "P-значення: 3.73822296993182e-06\n",
      "Відхиляємо H0. Існують докази проти гіпотези про закон розподілу.\n"
     ]
    }
   ],
   "source": [
    "alpha = 0.01\n",
    "print(f\"Хі-квадрат статистика: {chi2}\")\n",
    "print(f\"P-значення: {p_value}\")\n",
    "if p_value < alpha:\n",
    "    print(\"Відхиляємо H0. Існують докази проти гіпотези про закон розподілу.\")\n",
    "else:\n",
    "    print(\"Не відхиляємо H0. Недостатньо доказів проти гіпотези про закон розподілу.\")"
   ]
  },
  {
   "cell_type": "code",
   "execution_count": 8,
   "id": "f3ae8286",
   "metadata": {},
   "outputs": [],
   "source": [
    "p_X_greater_than_3 = 0.4\n",
    "mean_X = 2"
   ]
  },
  {
   "cell_type": "code",
   "execution_count": 9,
   "id": "2cd2b0dc",
   "metadata": {},
   "outputs": [],
   "source": [
    "p_X_less_than_3 = 1 - p_X_greater_than_3"
   ]
  },
  {
   "cell_type": "code",
   "execution_count": 10,
   "id": "8dd1373f",
   "metadata": {},
   "outputs": [],
   "source": [
    "density = p_X_less_than_3 / 3"
   ]
  },
  {
   "cell_type": "code",
   "execution_count": 11,
   "id": "34cc8e3b",
   "metadata": {},
   "outputs": [],
   "source": [
    "density_greater_than_3 = p_X_greater_than_3 / (1 - 3)"
   ]
  },
  {
   "cell_type": "code",
   "execution_count": 12,
   "id": "43f047ae",
   "metadata": {},
   "outputs": [
    {
     "name": "stdout",
     "output_type": "stream",
     "text": [
      "Щільність розподілу на інтервалі (0, 3): 0.19999999999999998\n",
      "Щільність розподілу на інтервалі (3, ∞): -0.2\n"
     ]
    }
   ],
   "source": [
    "print(f\"Щільність розподілу на інтервалі (0, 3): {density}\")\n",
    "print(f\"Щільність розподілу на інтервалі (3, ∞): {density_greater_than_3}\")"
   ]
  },
  {
   "cell_type": "code",
   "execution_count": null,
   "id": "b9e07232",
   "metadata": {},
   "outputs": [],
   "source": []
  }
 ],
 "metadata": {
  "kernelspec": {
   "display_name": "Python 3 (ipykernel)",
   "language": "python",
   "name": "python3"
  },
  "language_info": {
   "codemirror_mode": {
    "name": "ipython",
    "version": 3
   },
   "file_extension": ".py",
   "mimetype": "text/x-python",
   "name": "python",
   "nbconvert_exporter": "python",
   "pygments_lexer": "ipython3",
   "version": "3.10.9"
  }
 },
 "nbformat": 4,
 "nbformat_minor": 5
}
