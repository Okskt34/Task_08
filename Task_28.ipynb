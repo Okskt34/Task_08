{
 "cells": [
  {
   "cell_type": "code",
   "execution_count": 1,
   "id": "b049707e",
   "metadata": {},
   "outputs": [],
   "source": [
    "import numpy as np"
   ]
  },
  {
   "cell_type": "code",
   "execution_count": 2,
   "id": "2cee90cd",
   "metadata": {},
   "outputs": [],
   "source": [
    "from scipy import stats"
   ]
  },
  {
   "cell_type": "code",
   "execution_count": 3,
   "id": "ffdb9fd7",
   "metadata": {},
   "outputs": [],
   "source": [
    "x = np.array([1, 2, 4, 6, 7])\n",
    "n = np.array([2, 3, 10, 3, 2])\n",
    "confidence_level = 0.95"
   ]
  },
  {
   "cell_type": "code",
   "execution_count": 4,
   "id": "83818ed1",
   "metadata": {},
   "outputs": [],
   "source": [
    "x_bar = np.average(x, weights=n)"
   ]
  },
  {
   "cell_type": "code",
   "execution_count": 5,
   "id": "25e52f4d",
   "metadata": {},
   "outputs": [],
   "source": [
    "S2 = np.average((x - x_bar) ** 2, weights=n)"
   ]
  },
  {
   "cell_type": "code",
   "execution_count": 6,
   "id": "85f003c6",
   "metadata": {},
   "outputs": [],
   "source": [
    "df = len(x) - 1 \n",
    "chi2_lower = stats.chi2.ppf((1 - confidence_level) / 2, df)\n",
    "chi2_upper = stats.chi2.ppf((1 + confidence_level) / 2, df)\n",
    "G_lower = np.sqrt((df * S2) / chi2_upper)\n",
    "G_upper = np.sqrt((df * S2) / chi2_lower)"
   ]
  },
  {
   "cell_type": "code",
   "execution_count": 7,
   "id": "5ef8dd09",
   "metadata": {},
   "outputs": [
    {
     "name": "stdout",
     "output_type": "stream",
     "text": [
      "Довірчий інтервал для середнього квадратичного відхилення:\n",
      "Нижня межа:  1.0377290374785653\n",
      "Верхня межа:  4.9771443565992755\n"
     ]
    }
   ],
   "source": [
    "print(\"Довірчий інтервал для середнього квадратичного відхилення:\")\n",
    "print(\"Нижня межа: \", G_lower)\n",
    "print(\"Верхня межа: \", G_upper)"
   ]
  },
  {
   "cell_type": "code",
   "execution_count": 8,
   "id": "1e410c8e",
   "metadata": {},
   "outputs": [],
   "source": [
    "import scipy.stats as st"
   ]
  },
  {
   "cell_type": "code",
   "execution_count": 9,
   "id": "bc510d7d",
   "metadata": {},
   "outputs": [],
   "source": [
    "import math"
   ]
  },
  {
   "cell_type": "code",
   "execution_count": 10,
   "id": "d264d8ad",
   "metadata": {},
   "outputs": [],
   "source": [
    "m = 40  \n",
    "n = 100  \n",
    "confidence_level = 0.95  "
   ]
  },
  {
   "cell_type": "code",
   "execution_count": 11,
   "id": "d44857ee",
   "metadata": {},
   "outputs": [],
   "source": [
    "p_hat = m / n"
   ]
  },
  {
   "cell_type": "code",
   "execution_count": 12,
   "id": "dcef8822",
   "metadata": {},
   "outputs": [],
   "source": [
    "z = st.norm.ppf((1 + confidence_level) / 2)"
   ]
  },
  {
   "cell_type": "code",
   "execution_count": 13,
   "id": "09922ece",
   "metadata": {},
   "outputs": [],
   "source": [
    "interval_width = z * math.sqrt(p_hat * (1 - p_hat) / n)\n",
    "lower_bound = p_hat - interval_width\n",
    "upper_bound = p_hat + interval_width"
   ]
  },
  {
   "cell_type": "code",
   "execution_count": 14,
   "id": "78cd82af",
   "metadata": {},
   "outputs": [
    {
     "name": "stdout",
     "output_type": "stream",
     "text": [
      "Довірчий інтервал для ймовірності настання події A:\n",
      "Нижня межа:  0.3039817664728938\n",
      "Верхня межа:  0.4960182335271062\n"
     ]
    }
   ],
   "source": [
    "print(\"Довірчий інтервал для ймовірності настання події A:\")\n",
    "print(\"Нижня межа: \", lower_bound)\n",
    "print(\"Верхня межа: \", upper_bound)"
   ]
  },
  {
   "cell_type": "code",
   "execution_count": 15,
   "id": "d6188032",
   "metadata": {},
   "outputs": [],
   "source": [
    "import scipy.stats as st"
   ]
  },
  {
   "cell_type": "code",
   "execution_count": 16,
   "id": "12195738",
   "metadata": {},
   "outputs": [],
   "source": [
    "import math"
   ]
  },
  {
   "cell_type": "code",
   "execution_count": 17,
   "id": "c65f5040",
   "metadata": {},
   "outputs": [],
   "source": [
    "b = 3 \n",
    "delta = 0.6  \n",
    "confidence_level = 0.99  "
   ]
  },
  {
   "cell_type": "code",
   "execution_count": 18,
   "id": "0ade3382",
   "metadata": {},
   "outputs": [],
   "source": [
    "z = st.norm.ppf((1 + confidence_level) / 2)"
   ]
  },
  {
   "cell_type": "code",
   "execution_count": 19,
   "id": "7b8b2a53",
   "metadata": {},
   "outputs": [],
   "source": [
    "n = math.ceil(((z * b) / delta) ** 2)"
   ]
  },
  {
   "cell_type": "code",
   "execution_count": 20,
   "id": "5a9877fd",
   "metadata": {},
   "outputs": [
    {
     "name": "stdout",
     "output_type": "stream",
     "text": [
      "Мінімальний об'єм вибірки: 166\n"
     ]
    }
   ],
   "source": [
    "print(\"Мінімальний об'єм вибірки:\", n)"
   ]
  },
  {
   "cell_type": "code",
   "execution_count": null,
   "id": "bdabc831",
   "metadata": {},
   "outputs": [],
   "source": []
  }
 ],
 "metadata": {
  "kernelspec": {
   "display_name": "Python 3 (ipykernel)",
   "language": "python",
   "name": "python3"
  },
  "language_info": {
   "codemirror_mode": {
    "name": "ipython",
    "version": 3
   },
   "file_extension": ".py",
   "mimetype": "text/x-python",
   "name": "python",
   "nbconvert_exporter": "python",
   "pygments_lexer": "ipython3",
   "version": "3.10.9"
  }
 },
 "nbformat": 4,
 "nbformat_minor": 5
}
