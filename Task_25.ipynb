{
 "cells": [
  {
   "cell_type": "code",
   "execution_count": 1,
   "id": "8a7e22d5",
   "metadata": {},
   "outputs": [],
   "source": [
    "import numpy as np"
   ]
  },
  {
   "cell_type": "code",
   "execution_count": 2,
   "id": "11a7574f",
   "metadata": {},
   "outputs": [
    {
     "name": "stdout",
     "output_type": "stream",
     "text": [
      "Requirement already satisfied: pandas in c:\\users\\asus\\anaconda3\\anakonda\\lib\\site-packages (2.0.1)\n",
      "Requirement already satisfied: tzdata>=2022.1 in c:\\users\\asus\\anaconda3\\anakonda\\lib\\site-packages (from pandas) (2023.3)\n",
      "Requirement already satisfied: numpy>=1.21.0 in c:\\users\\asus\\anaconda3\\anakonda\\lib\\site-packages (from pandas) (1.24.3)\n",
      "Requirement already satisfied: python-dateutil>=2.8.2 in c:\\users\\asus\\anaconda3\\anakonda\\lib\\site-packages (from pandas) (2.8.2)\n",
      "Requirement already satisfied: pytz>=2020.1 in c:\\users\\asus\\anaconda3\\anakonda\\lib\\site-packages (from pandas) (2022.7)\n",
      "Requirement already satisfied: six>=1.5 in c:\\users\\asus\\anaconda3\\anakonda\\lib\\site-packages (from python-dateutil>=2.8.2->pandas) (1.16.0)\n",
      "Note: you may need to restart the kernel to use updated packages.\n"
     ]
    }
   ],
   "source": [
    "pip install pandas"
   ]
  },
  {
   "cell_type": "code",
   "execution_count": 3,
   "id": "cbb32936",
   "metadata": {},
   "outputs": [],
   "source": [
    "import pandas as pd"
   ]
  },
  {
   "cell_type": "code",
   "execution_count": 4,
   "id": "e7e77ae0",
   "metadata": {},
   "outputs": [],
   "source": [
    "probabilities_X = np.array([0.2, 0.5, 0.2, 0.1])"
   ]
  },
  {
   "cell_type": "code",
   "execution_count": 5,
   "id": "ec50b275",
   "metadata": {},
   "outputs": [],
   "source": [
    "probabilities_Y = np.array([0.1, 0.3, 0.4, 0.2])"
   ]
  },
  {
   "cell_type": "code",
   "execution_count": 6,
   "id": "fe2f0dff",
   "metadata": {},
   "outputs": [],
   "source": [
    "data = np.outer(probabilities_X, probabilities_Y)\n",
    "df = pd.DataFrame(data, index=[0, 1, 2, 3], columns=[0, 1, 2, 3])"
   ]
  },
  {
   "cell_type": "code",
   "execution_count": 7,
   "id": "3cb73f81",
   "metadata": {},
   "outputs": [],
   "source": [
    "mean_X = np.dot(probabilities_X, np.arange(4))\n",
    "mean_Y = np.dot(probabilities_Y, np.arange(4))"
   ]
  },
  {
   "cell_type": "code",
   "execution_count": 8,
   "id": "9a049176",
   "metadata": {},
   "outputs": [],
   "source": [
    "std_X = np.sqrt(np.dot(probabilities_X, np.arange(4)**2) - mean_X**2)\n",
    "std_Y = np.sqrt(np.dot(probabilities_Y, np.arange(4)**2) - mean_Y**2)"
   ]
  },
  {
   "cell_type": "code",
   "execution_count": 9,
   "id": "d0e6b7e8",
   "metadata": {},
   "outputs": [],
   "source": [
    "covariance = np.sum(df.values * np.outer(np.arange(4) - mean_X, np.arange(4) - mean_Y))\n",
    "correlation = covariance / (std_X * std_Y)"
   ]
  },
  {
   "cell_type": "code",
   "execution_count": 10,
   "id": "8f0b8456",
   "metadata": {},
   "outputs": [
    {
     "name": "stdout",
     "output_type": "stream",
     "text": [
      "Таблиця розподілу ймовірностей:\n",
      "      0     1     2     3\n",
      "0  0.02  0.06  0.08  0.04\n",
      "1  0.05  0.15  0.20  0.10\n",
      "2  0.02  0.06  0.08  0.04\n",
      "3  0.01  0.03  0.04  0.02\n"
     ]
    }
   ],
   "source": [
    "print(\"Таблиця розподілу ймовірностей:\")\n",
    "print(df)"
   ]
  },
  {
   "cell_type": "code",
   "execution_count": 11,
   "id": "dd867094",
   "metadata": {},
   "outputs": [
    {
     "name": "stdout",
     "output_type": "stream",
     "text": [
      "\n",
      "Коефіцієнт кореляції:\n",
      "-1.768768263572049e-17\n"
     ]
    }
   ],
   "source": [
    "print(\"\\nКоефіцієнт кореляції:\")\n",
    "print(correlation)"
   ]
  },
  {
   "cell_type": "code",
   "execution_count": 12,
   "id": "39b8c443",
   "metadata": {},
   "outputs": [
    {
     "name": "stdout",
     "output_type": "stream",
     "text": [
      "Expected return for X: 2.6999999999999997\n"
     ]
    }
   ],
   "source": [
    "norms_x = [10, 5, 2, 1, -5]\n",
    "probabilities_x = [0.1, 0.3, 0.2, 0.3, 0.1]\n",
    "\n",
    "expected_x = sum(norm * prob for norm, prob in zip(norms_x, probabilities_x))\n",
    "print(\"Expected return for X:\", expected_x)\n"
   ]
  },
  {
   "cell_type": "code",
   "execution_count": 13,
   "id": "7d8ff8ab",
   "metadata": {},
   "outputs": [
    {
     "name": "stdout",
     "output_type": "stream",
     "text": [
      "Expected return for Y: 4.000000000000001\n"
     ]
    }
   ],
   "source": [
    "norms_y = [20, 10, 2, -2, -8]\n",
    "probabilities_y = [0.1, 0.3, 0.2, 0.3, 0.1]\n",
    "\n",
    "expected_y = sum(norm * prob for norm, prob in zip(norms_y, probabilities_y))\n",
    "print(\"Expected return for Y:\", expected_y)\n"
   ]
  },
  {
   "cell_type": "code",
   "execution_count": 14,
   "id": "07ee6419",
   "metadata": {},
   "outputs": [
    {
     "name": "stdout",
     "output_type": "stream",
     "text": [
      "Standard deviation for X: 3.7161808352124095\n"
     ]
    }
   ],
   "source": [
    "import math\n",
    "\n",
    "variance_x = sum(((norm - expected_x) ** 2) * prob for norm, prob in zip(norms_x, probabilities_x))\n",
    "std_deviation_x = math.sqrt(variance_x)\n",
    "print(\"Standard deviation for X:\", std_deviation_x)\n"
   ]
  },
  {
   "cell_type": "code",
   "execution_count": 15,
   "id": "10f60a8a",
   "metadata": {},
   "outputs": [
    {
     "name": "stdout",
     "output_type": "stream",
     "text": [
      "Standard deviation for Y: 7.8993670632526\n"
     ]
    }
   ],
   "source": [
    "variance_y = sum(((norm - expected_y) ** 2) * prob for norm, prob in zip(norms_y, probabilities_y))\n",
    "std_deviation_y = math.sqrt(variance_y)\n",
    "print(\"Standard deviation for Y:\", std_deviation_y)\n"
   ]
  },
  {
   "cell_type": "code",
   "execution_count": 16,
   "id": "f4a8e072",
   "metadata": {},
   "outputs": [
    {
     "name": "stdout",
     "output_type": "stream",
     "text": [
      "Covariance: 28.4\n"
     ]
    }
   ],
   "source": [
    "covariance = sum(((norm_x - expected_x) * (norm_y - expected_y)) * prob for norm_x, norm_y, prob in zip(norms_x, norms_y, probabilities_x))\n",
    "print(\"Covariance:\", covariance)\n"
   ]
  },
  {
   "cell_type": "code",
   "execution_count": 17,
   "id": "1fceb4ad",
   "metadata": {},
   "outputs": [
    {
     "name": "stdout",
     "output_type": "stream",
     "text": [
      "Correlation coefficient: 0.9674515080323103\n"
     ]
    }
   ],
   "source": [
    "correlation = covariance / (std_deviation_x * std_deviation_y)\n",
    "print(\"Correlation coefficient:\", correlation)\n"
   ]
  },
  {
   "cell_type": "code",
   "execution_count": null,
   "id": "92021ccb",
   "metadata": {},
   "outputs": [],
   "source": []
  }
 ],
 "metadata": {
  "kernelspec": {
   "display_name": "Python 3 (ipykernel)",
   "language": "python",
   "name": "python3"
  },
  "language_info": {
   "codemirror_mode": {
    "name": "ipython",
    "version": 3
   },
   "file_extension": ".py",
   "mimetype": "text/x-python",
   "name": "python",
   "nbconvert_exporter": "python",
   "pygments_lexer": "ipython3",
   "version": "3.10.9"
  }
 },
 "nbformat": 4,
 "nbformat_minor": 5
}
